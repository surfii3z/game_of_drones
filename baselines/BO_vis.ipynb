{
 "metadata": {
  "language_info": {
   "codemirror_mode": {
    "name": "ipython",
    "version": 3
   },
   "file_extension": ".py",
   "mimetype": "text/x-python",
   "name": "python",
   "nbconvert_exporter": "python",
   "pygments_lexer": "ipython3",
   "version": "3.6.9-final"
  },
  "orig_nbformat": 2,
  "kernelspec": {
   "name": "python3",
   "display_name": "Python 3",
   "language": "python"
  }
 },
 "nbformat": 4,
 "nbformat_minor": 2,
 "cells": [
  {
   "cell_type": "code",
   "execution_count": 2,
   "metadata": {},
   "outputs": [],
   "source": [
    "import optuna"
   ]
  },
  {
   "cell_type": "code",
   "execution_count": 3,
   "metadata": {},
   "outputs": [
    {
     "output_type": "stream",
     "name": "stderr",
     "text": [
      "\u001b[32m[I 2021-01-06 21:05:14,430]\u001b[0m Using an existing study with name 'BO03' instead of creating a new one.\u001b[0m\n"
     ]
    }
   ],
   "source": [
    "NAME = 'BO03'\n",
    "study = optuna.create_study(study_name=NAME, storage='sqlite:///{}.db'.format(NAME), load_if_exists=True)"
   ]
  },
  {
   "cell_type": "code",
   "execution_count": 5,
   "metadata": {},
   "outputs": [
    {
     "output_type": "stream",
     "name": "stdout",
     "text": [
      "{'a_0': 106.24027018051666, 'a_1': 95.99047607792563, 'a_10': 79.06819370232571, 'a_11': 94.1402677180919, 'a_12': 90.75148369600967, 'a_13': 121.38030009053853, 'a_2': 97.57568429817644, 'a_3': 52.13135960019012, 'a_4': 73.00032255546428, 'a_5': 79.9652286854364, 'a_6': 111.13483134056986, 'a_7': 132.01840141842837, 'a_8': 108.47270426333823, 'a_9': 54.78856131399563, 'd_0': 3.995292254560912, 'd_1': 4.704607951084391, 'd_10': 4.855365631013603, 'd_11': 5.161728060064728, 'd_12': 5.070152540314094, 'd_13': 5.816609424444081, 'd_2': 5.839581119279348, 'd_3': 4.153465882539344, 'd_4': 5.416022610112268, 'd_5': 4.105805839191718, 'd_6': 5.763304492650692, 'd_7': 6.137327181729558, 'd_8': 4.810503007318293, 'd_9': 4.0800659622334985, 'v_0': 26.66807458548839, 'v_1': 29.812846471513943, 'v_10': 11.394127646439491, 'v_11': 23.47790815404538, 'v_12': 14.215525240363501, 'v_13': 9.904451847476658, 'v_2': 20.610964873830795, 'v_3': 16.830298125357835, 'v_4': 31.68602382736654, 'v_5': 26.44361020713069, 'v_6': 29.62783093309393, 'v_7': 23.412875062134145, 'v_8': 23.1824521174332, 'v_9': 11.860655195461764}\n"
     ]
    }
   ],
   "source": [
    "print(study.best_params)"
   ]
  },
  {
   "cell_type": "code",
   "execution_count": null,
   "metadata": {},
   "outputs": [],
   "source": [
    "optuna.visualization.plot_contour(study, params=[\"v_0\", \"a_0\"])"
   ]
  }
 ]
}